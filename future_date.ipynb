{
  "metadata": {
    "kernelspec": {
      "name": "python",
      "display_name": "Python (Pyodide)",
      "language": "python"
    },
    "language_info": {
      "codemirror_mode": {
        "name": "python",
        "version": 3
      },
      "file_extension": ".py",
      "mimetype": "text/x-python",
      "name": "python",
      "nbconvert_exporter": "python",
      "pygments_lexer": "ipython3",
      "version": "3.8"
    }
  },
  "nbformat_minor": 4,
  "nbformat": 4,
  "cells": [
    {
      "cell_type": "markdown",
      "source": "# Determine the date X days from now",
      "metadata": {}
    },
    {
      "cell_type": "code",
      "source": "from datetime import datetime, timedelta\n\n# current date\ncurrent_date = datetime.now()\n\n# calculate the date 33 days from now\n    # change 33 to whichever target date you're interested in\nfuture_date = current_date + timedelta(days=33)\n\n# format the date to display only the day\nfuture_day = future_date.strftime(\"%A, %B %d, %Y\")\nfuture_day\n",
      "metadata": {
        "trusted": true
      },
      "outputs": [
        {
          "execution_count": 1,
          "output_type": "execute_result",
          "data": {
            "text/plain": "'Wednesday, February 07, 2024'"
          },
          "metadata": {}
        }
      ],
      "execution_count": 1
    }
  ]
}